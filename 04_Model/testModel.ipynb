{
 "cells": [
  {
   "cell_type": "code",
   "execution_count": null,
   "metadata": {},
   "outputs": [],
   "source": [
    "# import\n",
    "import numpy as np\n",
    "from keras.models import Model, load_model\n",
    "from math import inf, floor\n",
    "from statistics import mean\n",
    "from matplotlib import pyplot as plt\n",
    "from librosa import load\n",
    "from librosa.effects import split\n",
    "from librosa.feature import melspectrogram\n",
    "from IPython import display as Ipd\n",
    "from pyloudnorm import Meter as loudMeter\n",
    "from pyloudnorm.normalize import loudness as loudnorm"
   ]
  },
  {
   "cell_type": "code",
   "execution_count": null,
   "metadata": {},
   "outputs": [],
   "source": [
    "# constant\n",
    "import os\n",
    "import sys\n",
    "parent_dir = os.path.abspath(os.path.join(os.getcwd(), \"..\\\\00_Constant\"))\n",
    "if sys.path.count(parent_dir) == 0:\n",
    "    sys.path.append(parent_dir)\n",
    "import fyp_constants as constants\n",
    "\n",
    "DATAFOLDER_PATH             = constants.DATA_FOLDER_PATH\n",
    "MODELFOLDER_PATH            = constants.MODEL_FOLDER_PATH\n",
    "EXTERNALDATA_FOLDER_PATH    = constants.EXTERNALTEST_DATA_FOLDER_PATH\n",
    "DATA_PROCESSED_FOLDER_NM    = constants.DATA_PROCESSED_FOLDER_NM\n",
    "FIGRUE_FOLDER_PATH          = constants.FIGRUE_FOLDER_PATH\n",
    "\n",
    "EXTERNALDATA_CSV_PATH   = constants.EXTERNALTEST_DATA_CSVFILE_PATH\n",
    "\n",
    "DATAX_MEL64_NM      = constants.DATAX_MEL64_NM\n",
    "DATAX_MEL128_NM     = constants.DATAX_MEL128_NM\n",
    "DATAX_MEL256_NM     = constants.DATAX_MEL256_NM\n",
    "DATAX_WAVE_NM       = constants.DATAX_WAVE_NM\n",
    "DATAX_WAVE_HALF_NM  = constants.DATAX_WAVE_HALF_NM\n",
    "\n",
    "DATAY_NO_PROC_NM            = constants.DATAY_NO_PROC_NM\n",
    "DATAY_NO_PROC_HALF_NM       = constants.DATAY_NO_PROC_HALF_NM\n",
    "DATAY_PROC_VIB_NM           = constants.DATAY_PROC_VIB_NM\n",
    "DATAY_PROC_VIB_GEN_NM       = constants.DATAY_PROC_VIB_GEN_NM\n",
    "DATAY_PROC_VIB_GEN_BRE_NM   = constants.DATAY_PROC_VIB_GEN_BRE_NM\n",
    "DATAY_PROC_VIB_GEN_BRI_NM   = constants.DATAY_PROC_VIB_GEN_BRI_NM\n",
    "DATAY_PROC_VIB_GEN_GWL_NM   = constants.DATAY_PROC_VIB_GEN_GWL_NM\n",
    "DATAY_PROC_GEN_MINMAXNORM   = constants.DATAY_PROC_GEN_MINMAXNORM\n",
    "\n",
    "SAMPLING_RATE       = constants.SAMPLING_RATE\n",
    "PARAMETERTYPE_LS    = constants.PARAMETERTYPE_LS\n",
    "LOUDNORM_LUFS       = constants.LOUDNORM_LUFS\n",
    "MEL_MAX_FREQ        = constants.MEL_MAX_FREQ\n",
    "\n",
    "EXTERNAL_TESTING_SIZE = constants.EXTERNAL_TESTING_SIZE"
   ]
  },
  {
   "cell_type": "code",
   "execution_count": null,
   "metadata": {},
   "outputs": [],
   "source": [
    "def loadData(dataset:int, dataX_nm:str, dataY_nm:str=\"data_y\"):\n",
    "    PROCESSDATA_FOLDER_PATH = f\"{DATAFOLDER_PATH}\\\\{dataset}\\\\{DATA_PROCESSED_FOLDER_NM}\"\n",
    "    x = np.load(f\"{PROCESSDATA_FOLDER_PATH}\\\\{dataX_nm}.npz\")[\"data\"]\n",
    "    y = np.load(f\"{PROCESSDATA_FOLDER_PATH}\\\\{dataY_nm}.npz\")[\"data\"]\n",
    "    return (x,y)\n",
    "\n",
    "# summary the predict to a dataset by mean, maximum predicted value and minmum predicted value for all 7 parameters\n",
    "def summary_predict(predict_y):\n",
    "    for idx, para in enumerate(PARAMETERTYPE_LS):\n",
    "        predict_para = predict_y[:,idx]\n",
    "        \n",
    "        # mean\n",
    "        para_mean = mean(predict_para)\n",
    "        \n",
    "        # max\n",
    "        max_para = max(predict_para)\n",
    "        max_para_idx = [idx for idx, err in enumerate(predict_para) if err == max_para]\n",
    "        \n",
    "        # min\n",
    "        min_para = min(predict_para)\n",
    "        min_para_idx = [idx for idx, err in enumerate(predict_para) if err == min_para]\n",
    "        \n",
    "        print(f\"\\t{para}\\t{para_mean}\\tmax {max_para}{max_para_idx}\\tmin {min_para}{min_para_idx}\")\n",
    "        "
   ]
  },
  {
   "cell_type": "code",
   "execution_count": null,
   "metadata": {},
   "outputs": [],
   "source": [
    "# select model to be tested\n",
    "# model = load_model(f\"{MODELFOLDER_PATH}/model1b/150.h5\")\n",
    "# model = load_model(f\"{MODELFOLDER_PATH}/model2b1/425.h5\")\n",
    "# model = load_model(f\"{MODELFOLDER_PATH}/model2b2/300.h5\")\n",
    "# model = load_model(f\"{MODELFOLDER_PATH}/model2b3/300.h5\")\n",
    "# model = load_model(f\"{MODELFOLDER_PATH}/model2c1/325.h5\")\n",
    "# model = load_model(f\"{MODELFOLDER_PATH}/model2c2/450.h5\")\n",
    "# model = load_model(f\"{MODELFOLDER_PATH}/model2c3/300.h5\")\n",
    "# model = load_model(f\"{MODELFOLDER_PATH}/model2d1/275.h5\")\n",
    "# model = load_model(f\"{MODELFOLDER_PATH}/model2d2/275.h5\")\n",
    "# model = load_model(f\"{MODELFOLDER_PATH}/model2d3/275.h5\")\n",
    "# model = load_model(f\"{MODELFOLDER_PATH}/model2e1/275.h5\")\n",
    "# model = load_model(f\"{MODELFOLDER_PATH}/model2e2/475.h5\")\n",
    "# model = load_model(f\"{MODELFOLDER_PATH}/model2e3/300.h5\")\n",
    "model = load_model(f\"{MODELFOLDER_PATH}/model3_1/200.h5\")\n",
    "# model = load_model(f\"{MODELFOLDER_PATH}/model3_2/100.h5\")\n",
    "# model = load_model(f\"{MODELFOLDER_PATH}/model3_3/150.h5\")"
   ]
  },
  {
   "attachments": {},
   "cell_type": "markdown",
   "metadata": {},
   "source": [
    "Internal test"
   ]
  },
  {
   "cell_type": "code",
   "execution_count": null,
   "metadata": {},
   "outputs": [],
   "source": [
    "# select internal testing set\n",
    "# (x,y) = loadData(dataset=\"3\", dataX_nm=DATAX_MEL64_NM, dataY_nm=DATAY_NO_PROC_NM)\n",
    "# (x,y) = loadData(dataset=\"3\", dataX_nm=DATAX_MEL128_NM, dataY_nm=DATAY_PROC_VIB_NM)\n",
    "# (x,y) = loadData(dataset=\"3\", dataX_nm=DATAX_MEL128_NM, dataY_nm=DATAY_PROC_VIB_GEN_NM)\n",
    "# (x,y) = loadData(dataset=\"3\", dataX_nm=DATAX_MEL128_NM, dataY_nm=DATAY_PROC_VIB_GEN_BRE_NM)\n",
    "# (x,y) = loadData(dataset=\"3\", dataX_nm=DATAX_MEL128_NM, dataY_nm=DATAY_PROC_VIB_GEN_BRI_NM)\n",
    "# (x,y) = loadData(dataset=\"3\", dataX_nm=DATAX_MEL128_NM, dataY_nm=DATAY_PROC_VIB_GEN_GWL_NM)\n",
    "(x,y) = loadData(dataset=\"6\", dataX_nm=DATAX_MEL128_NM, dataY_nm=DATAY_PROC_GEN_MINMAXNORM)"
   ]
  },
  {
   "cell_type": "code",
   "execution_count": null,
   "metadata": {},
   "outputs": [],
   "source": [
    "# acceptable error\n",
    "# ERROR_THESHOLD = [10,16,16,16,16,26,16]\n",
    "\n",
    "# the acceptable error theshold after min max norm\n",
    "ERROR_THESHOLD = [13,18,48,20,16,26,16]"
   ]
  },
  {
   "cell_type": "code",
   "execution_count": null,
   "metadata": {},
   "outputs": [],
   "source": [
    "# estimate the model accuracy by the acceptable error\n",
    "def accuracy(predict_y, true_y):\n",
    "    CNT_RECORD = len(predict_y)\n",
    "    \n",
    "    err_y = abs(predict_y-true_y)\n",
    "    \n",
    "    for idx, para in enumerate(PARAMETERTYPE_LS):\n",
    "        para_err_y = err_y[:,idx]\n",
    "        \n",
    "        # cnt para has error that over theashold\n",
    "        cnt_err = 0\n",
    "        for err in para_err_y:\n",
    "            if err > ERROR_THESHOLD[idx]:\n",
    "                cnt_err += 1\n",
    "        accuracy = round((CNT_RECORD-cnt_err)/CNT_RECORD,4)\n",
    "        \n",
    "        # max err\n",
    "        max_para_err = max(para_err_y)\n",
    "        max_para_err_idx = [idx for idx, err in enumerate(para_err_y) if err == max_para_err]\n",
    "        \n",
    "        # min err\n",
    "        min_para_err = min(para_err_y)\n",
    "        min_para_err_idx = [idx for idx, err in enumerate(para_err_y) if err == min_para_err]\n",
    "        \n",
    "        print(f\"\\t{para}\\t{accuracy}\\tmax err {round(max_para_err,4)}{max_para_err_idx}\\tmin err {round(min_para_err,4)}{min_para_err_idx}\")\n",
    "\n",
    "# plot a historgram for checking the predicted value distribution\n",
    "def plotDistribution(y):\n",
    "    for idx, para, in enumerate(PARAMETERTYPE_LS):\n",
    "        print(para)\n",
    "        plt.hist(y[:,idx], color = 'blue',bins = 128)\n",
    "        plt.xlim(-20,220)\n",
    "        plt.show()"
   ]
  },
  {
   "cell_type": "code",
   "execution_count": null,
   "metadata": {},
   "outputs": [],
   "source": [
    "# predict the testing data\n",
    "y_overall = model.predict(x)\n",
    "# predict result of each vocal database\n",
    "y_V01 = y_overall[0:1000]\n",
    "y_V02 = y_overall[1000:2000]\n",
    "y_V03 = y_overall[2000:3000]\n",
    "y_V04 = y_overall[3000:4000]\n",
    "y_V05 = y_overall[4000:5000]\n",
    "y_V06 = y_overall[5000:6000]"
   ]
  },
  {
   "cell_type": "code",
   "execution_count": null,
   "metadata": {},
   "outputs": [],
   "source": [
    "# mean, max value, min value of 7 parameter\n",
    "print(\"Overall\")\n",
    "summary_predict(y_overall)\n",
    "print(\"V01\")\n",
    "summary_predict(y_V01)\n",
    "print(\"V02\")\n",
    "summary_predict(y_V02)\n",
    "print(\"V03\")\n",
    "summary_predict(y_V03)\n",
    "print(\"V04\")\n",
    "summary_predict(y_V04)\n",
    "print(\"V05\")\n",
    "summary_predict(y_V05)\n",
    "print(\"V06\")\n",
    "summary_predict(y_V06)"
   ]
  },
  {
   "cell_type": "code",
   "execution_count": null,
   "metadata": {},
   "outputs": [],
   "source": [
    "# accuracy, using acceptable error\n",
    "print(\"Overall\")\n",
    "accuracy(y_overall, y)\n",
    "print(\"V01\")\n",
    "accuracy(y_V01, y[0:1000])\n",
    "print(\"V02\")\n",
    "accuracy(y_V02, y[1000:2000])\n",
    "print(\"V03\")\n",
    "accuracy(y_V03, y[2000:3000])\n",
    "print(\"V04\")\n",
    "accuracy(y_V04, y[3000:4000])\n",
    "print(\"V05\")\n",
    "accuracy(y_V05, y[4000:5000])\n",
    "print(\"V06\")\n",
    "accuracy(y_V06, y[5000:6000])"
   ]
  },
  {
   "cell_type": "code",
   "execution_count": null,
   "metadata": {},
   "outputs": [],
   "source": [
    "# distribution of true y\n",
    "plotDistribution(y)"
   ]
  },
  {
   "cell_type": "code",
   "execution_count": null,
   "metadata": {},
   "outputs": [],
   "source": [
    "# distribution of predict y\n",
    "plotDistribution(y_overall)"
   ]
  },
  {
   "attachments": {},
   "cell_type": "markdown",
   "metadata": {},
   "source": [
    "External Test"
   ]
  },
  {
   "cell_type": "code",
   "execution_count": null,
   "metadata": {},
   "outputs": [],
   "source": [
    "# functions\n",
    "# plot a box plot for predict y\n",
    "def plotBox(predict_y, save_nm:None):\n",
    "    data = [predict_y[:,idx] for idx in range(len(PARAMETERTYPE_LS))]\n",
    "    \n",
    "    fig = plt.figure()\n",
    "    ax = fig.add_subplot()\n",
    "    ax.set_xticklabels([\"BRE\",\"BRI\",\"CLE\",\"GEN\",\"GWL\",\"OPE\",\"Vib\"])\n",
    "    \n",
    "    plt.ylim(-20,220)\n",
    "    plt.boxplot(data)\n",
    "    \n",
    "    if save_nm is None:\n",
    "        plt.show()\n",
    "    else:\n",
    "        plt.savefig(save_nm)\n",
    "\n",
    "# comparing mean of parameter predicted values between two external testing\n",
    "def compare_external_test(y1, y2, y1_nm=\"\", y2_nm=\"\"):\n",
    "    y1_para = [0 for _ in range(len(PARAMETERTYPE_LS))]\n",
    "    y2_para = [0 for _ in range(len(PARAMETERTYPE_LS))]\n",
    "    \n",
    "    for record in y1:\n",
    "        for idx in range(len(record)):\n",
    "            y1_para[idx] += record[idx]\n",
    "            \n",
    "    for record in y2:\n",
    "        for idx in range(len(record)):\n",
    "            y2_para[idx] += record[idx]\n",
    "            \n",
    "    \n",
    "    print(f\"[{y1_nm} - {y2_nm}]\")\n",
    "    for idx in range(len(y1_para)):\n",
    "        print(f\"\\t{PARAMETERTYPE_LS[idx]}\\t{y1_para[idx]/len(y1) - y2_para[idx]/len(y2)}\")\n",
    "\n",
    "# list the index of record that obtains top 10 highest/10 lowest value for each parameters\n",
    "def show10MinMax(y_predict):\n",
    "    # append idx\n",
    "    y = [[*record, idx+1] for idx, record in enumerate(y_predict)] \n",
    "    \n",
    "    for idx, para in enumerate(PARAMETERTYPE_LS):\n",
    "        y_sort = sorted(y, key=lambda record:record[idx])\n",
    "\n",
    "        min10 = np.array(y_sort[:10])[:,idx]\n",
    "        min10_idx = np.array(y_sort[:10])[:,-1]\n",
    "\n",
    "        max10 = y_sort[-10:]\n",
    "        max10.reverse()\n",
    "        max10 = np.array(max10)[:,idx]\n",
    "        \n",
    "        max10_idx = y_sort[-10:]\n",
    "        max10_idx.reverse()\n",
    "        max10_idx = np.array(max10_idx)[:,-1]\n",
    "        \n",
    "        print(para)\n",
    "        print(f\"min10 {min10_idx}\\tmax10 {max10_idx}\")\n",
    "        print(f\"      {min10}\\t      {max10}\")"
   ]
  },
  {
   "cell_type": "code",
   "execution_count": null,
   "metadata": {},
   "outputs": [],
   "source": [
    "# process external samples\n",
    "external_x = []\n",
    "\n",
    "# 0 for mel 64\n",
    "# 1 for mel 128\n",
    "# 2 for mel 256\n",
    "# 3 for waveform\n",
    "x_type = 1\n",
    "\n",
    "for idx in range(EXTERNAL_TESTING_SIZE):\n",
    "    audio, sr = load(f\"{EXTERNALDATA_FOLDER_PATH}\\\\{idx+1}.wav\", sr=SAMPLING_RATE)\n",
    "    \n",
    "    # the length of the record is supposed to be >= 4 seconds\n",
    "    if(len(audio)/sr < 4):\n",
    "        print(f\"audio {idx+1} length less then 4s\")\n",
    "    \n",
    "    # clip first 4 second non slience part of the recording\n",
    "    interval = split(y=audio, top_db=50)\n",
    "    audio = audio[interval[0][0]:interval[0][0]+sr*4]\n",
    "    \n",
    "    # loudness normalization\n",
    "    loudness = loudMeter(sr).integrated_loudness(audio)\n",
    "    audio_norm = loudnorm(audio, loudness, LOUDNORM_LUFS)\n",
    "        \n",
    "    if x_type == 0:\n",
    "        data_x = melspectrogram(y=audio, sr=sr, n_mels=64, fmax=MEL_MAX_FREQ)\n",
    "    elif x_type == 1:\n",
    "        data_x = melspectrogram(y=audio, sr=sr, n_mels=128, fmax=MEL_MAX_FREQ)\n",
    "    elif x_type == 2:\n",
    "        data_x = melspectrogram(y=audio, sr=sr, n_mels=256, fmax=MEL_MAX_FREQ)\n",
    "    elif x_type == 3:\n",
    "        data_x = audio\n",
    "        \n",
    "    external_x.append(data_x)"
   ]
  },
  {
   "cell_type": "code",
   "execution_count": null,
   "metadata": {},
   "outputs": [],
   "source": [
    "# predict all the external test recording\n",
    "all_predict = model.predict(np.array(external_x))\n",
    "\n",
    "# helper function, query the prediction result by list of index, refer to the external.csv for the index\n",
    "def getPredict(idx_ls):\n",
    "    return np.array([predict for idx, predict in enumerate(all_predict) if idx+1 in idx_ls])"
   ]
  },
  {
   "cell_type": "code",
   "execution_count": null,
   "metadata": {},
   "outputs": [],
   "source": [
    "# All\n",
    "print(\"[all]\")\n",
    "summary_predict(all_predict)\n",
    "plotBox(all_predict, save_nm=f\"{FIGRUE_FOLDER_PATH}/00all\")\n",
    "show10MinMax(all_predict)"
   ]
  },
  {
   "cell_type": "code",
   "execution_count": null,
   "metadata": {},
   "outputs": [],
   "source": [
    "# index list of different sets in External Test\n",
    "\n",
    "# VocalSet\n",
    "data = np.loadtxt(EXTERNALDATA_CSV_PATH, delimiter=\",\", dtype=str)\n",
    "data = np.array(data[1:,0:-3]).astype(int)\n",
    "\n",
    "COLUMN_BREATHY  = 1\n",
    "COLUMN_BELT     = 2\n",
    "COLUMN_GENDER   = 3\n",
    "COLUMN_FRY      = 4\n",
    "COLUMN_VIBRATE  = 5\n",
    "\n",
    "breathy = data[data[:,COLUMN_BREATHY] == 1][:,0]\n",
    "belt    = data[data[:,COLUMN_BELT] == 1][:,0]\n",
    "fry     = data[data[:,COLUMN_FRY] == 1][:,0]\n",
    "vibrate = data[data[:,COLUMN_VIBRATE] == 1][:,0]\n",
    "straight  = data[(data[:,COLUMN_BREATHY] == 0) & (data[:,COLUMN_BELT] == 0) & (data[:,COLUMN_FRY] == 0) & (data[:,COLUMN_VIBRATE] == 0)][:,0]\n",
    "\n",
    "# CVT\n",
    "CVT_breathy         = [520,521,522,523,524,525]\n",
    "CVT_no_vibrate      = [529,535]\n",
    "CVT_fast_vibrate    = [526,532]\n",
    "CVT_hammer_vibrate  = [527,528,533,534]\n",
    "CVT_normal_vibrate  = [530,536]\n",
    "CVT_slow_vibrate    = [531]\n",
    "CVT_scream          = [537,538,539,540,541,542]\n",
    "CVT_distortion      = [543,544,545,546,547]\n",
    "CVT_growl           = [548,549,550,551,552,553,554,555,556,557]\n",
    "CVT_grunt           = [558,559]\n",
    "\n",
    "# YT\n",
    "YT_breathy                  = [411,412,413,414,415,416]\n",
    "YT_breathy_compare          = [414]\n",
    "YT_non_breathy_compare      = [515]\n",
    "YT_bright                   = [516]\n",
    "YT_dark                     = [517]\n",
    "YT_good_bright              = [518]\n",
    "YT_bad_bright               = [519]\n",
    "YT_mouth_open_1_horizon     = [560,561]\n",
    "YT_mouth_open_1_horizonL    = [562]\n",
    "YT_mouth_open_1_vertical    = [563,564,565,566]\n",
    "YT_mouth_open_2_close       = [567,568]\n",
    "YT_mouth_open_2_open        = [569,570,571]\n",
    "YT_mouth_open_3_tooSmall    = [572]\n",
    "YT_mouth_open_3_small       = [573]\n",
    "YT_mouth_open_3_normal      = [574]\n",
    "YT_mouth_open_3_wide        = [575]\n",
    "YT_mouth_open_3_big         = [576]\n",
    "YT_mouth_open_3_tooLong     = [577]\n",
    "\n",
    "# gender\n",
    "female  = data[data[:,COLUMN_GENDER] == 0][:,0]\n",
    "male    = data[data[:,COLUMN_GENDER] == 1][:,0]\n",
    "child   = data[data[:,COLUMN_GENDER] == 2][:,0]"
   ]
  },
  {
   "attachments": {},
   "cell_type": "markdown",
   "metadata": {},
   "source": [
    "External Test: VocalSet"
   ]
  },
  {
   "cell_type": "code",
   "execution_count": null,
   "metadata": {},
   "outputs": [],
   "source": [
    "y1 = getPredict(breathy)\n",
    "y2 = getPredict([*vibrate, *straight, *fry, *belt])\n",
    "print(\"[breathy]\")\n",
    "summary_predict(y1)\n",
    "plotBox(y1, save_nm=f\"{FIGRUE_FOLDER_PATH}/01breathy\")\n",
    "print(\"[non breathy]\")\n",
    "summary_predict(y2)\n",
    "plotBox(y2, save_nm=f\"{FIGRUE_FOLDER_PATH}/02non_breathy\")\n",
    "compare_external_test(y1,y2, \"breathy\", \"non breathy\")"
   ]
  },
  {
   "cell_type": "code",
   "execution_count": null,
   "metadata": {},
   "outputs": [],
   "source": [
    "y1 = getPredict(belt)\n",
    "y2 = getPredict([*vibrate, *straight, *fry, *breathy])\n",
    "print(\"[belt]\")\n",
    "summary_predict(y1)\n",
    "plotBox(y1, save_nm=f\"{FIGRUE_FOLDER_PATH}/03bright\")\n",
    "print(\"[non belt]\")\n",
    "summary_predict(y2)\n",
    "plotBox(y2, save_nm=f\"{FIGRUE_FOLDER_PATH}/04non_bright\")\n",
    "compare_external_test(y1,y2, \"bright\", \"non belt\")"
   ]
  },
  {
   "cell_type": "code",
   "execution_count": null,
   "metadata": {},
   "outputs": [],
   "source": [
    "y1 = getPredict(vibrate)\n",
    "y2 = getPredict([*fry, *straight, *breathy, *belt])\n",
    "print(\"[vibrate]\")\n",
    "summary_predict(y1)\n",
    "plotBox(y1, save_nm=f\"{FIGRUE_FOLDER_PATH}/05vibrate\")\n",
    "print(\"[non vibrate]\")\n",
    "summary_predict(y2)\n",
    "plotBox(y2, save_nm=f\"{FIGRUE_FOLDER_PATH}/06non_vibrate\")\n",
    "compare_external_test(y1,y2, \"vibrate\", \"non vibrate\")"
   ]
  },
  {
   "cell_type": "code",
   "execution_count": null,
   "metadata": {},
   "outputs": [],
   "source": [
    "y1 = getPredict(fry)\n",
    "y2 = getPredict([*straight, *vibrate, *breathy, *belt])\n",
    "print(\"[fry]\")\n",
    "summary_predict(y1)\n",
    "plotBox(y1, save_nm=f\"{FIGRUE_FOLDER_PATH}/07fry\")\n",
    "print(\"[non fry]\")\n",
    "summary_predict(y2)\n",
    "plotBox(y2, save_nm=f\"{FIGRUE_FOLDER_PATH}/08non_fry\")\n",
    "compare_external_test(y1,y2, \"growl\", \"non fry\")"
   ]
  },
  {
   "attachments": {},
   "cell_type": "markdown",
   "metadata": {},
   "source": [
    "CVT"
   ]
  },
  {
   "cell_type": "code",
   "execution_count": null,
   "metadata": {},
   "outputs": [],
   "source": [
    "# CVT breathy\n",
    "y1 = getPredict(CVT_breathy)\n",
    "print(\"[CVT breathy]\")\n",
    "summary_predict(y1)\n",
    "plotBox(y1, save_nm=f\"{FIGRUE_FOLDER_PATH}/09CVT_breathy\")"
   ]
  },
  {
   "cell_type": "code",
   "execution_count": null,
   "metadata": {},
   "outputs": [],
   "source": [
    "# CVT vibrate\n",
    "print(\"[CVT no]\")\n",
    "y = getPredict(CVT_no_vibrate)\n",
    "summary_predict(y)\n",
    "plotBox(y, save_nm=f\"{FIGRUE_FOLDER_PATH}/10CVT_no_vibrate\")\n",
    "\n",
    "print(\"[CVT fast]\")\n",
    "y = getPredict(CVT_fast_vibrate)\n",
    "summary_predict(y)\n",
    "plotBox(y, save_nm=f\"{FIGRUE_FOLDER_PATH}/11CVT_fast_vibrate\")\n",
    "\n",
    "print(\"[CVT hammer]\")\n",
    "y = getPredict(CVT_hammer_vibrate)\n",
    "summary_predict(y)\n",
    "plotBox(y, save_nm=f\"{FIGRUE_FOLDER_PATH}/12CVT_hammer_vibrate\")\n",
    "\n",
    "print(\"[CVT normal_v]\")\n",
    "y = getPredict(CVT_normal_vibrate)\n",
    "summary_predict(y)\n",
    "plotBox(y, save_nm=f\"{FIGRUE_FOLDER_PATH}/13CVT_normal_vibrate\")\n",
    "\n",
    "print(\"[CVT slow]\")\n",
    "y = getPredict(CVT_slow_vibrate)\n",
    "summary_predict(y)\n",
    "plotBox(y, save_nm=f\"{FIGRUE_FOLDER_PATH}/14CVT_slow_vibrate\")"
   ]
  },
  {
   "cell_type": "code",
   "execution_count": null,
   "metadata": {},
   "outputs": [],
   "source": [
    "# CVT scream\n",
    "y1 = getPredict(CVT_scream)\n",
    "print(\"[CVT scream]\")\n",
    "summary_predict(y1)\n",
    "plotBox(y1, save_nm=f\"{FIGRUE_FOLDER_PATH}/15CVT_scream\")"
   ]
  },
  {
   "cell_type": "code",
   "execution_count": null,
   "metadata": {},
   "outputs": [],
   "source": [
    "# CVT distortion\n",
    "y1 = getPredict(CVT_distortion)\n",
    "print(\"[CVT distortion]\")\n",
    "summary_predict(y1)\n",
    "plotBox(y1, save_nm=f\"{FIGRUE_FOLDER_PATH}/16CVT_distortion\")"
   ]
  },
  {
   "cell_type": "code",
   "execution_count": null,
   "metadata": {},
   "outputs": [],
   "source": [
    "# CVT growl\n",
    "y1 = getPredict(CVT_growl)\n",
    "print(\"[CVT growl]\")\n",
    "summary_predict(y1)\n",
    "plotBox(y1, save_nm=f\"{FIGRUE_FOLDER_PATH}/17CVT_growl\")"
   ]
  },
  {
   "cell_type": "code",
   "execution_count": null,
   "metadata": {},
   "outputs": [],
   "source": [
    "# CVT grunt\n",
    "y1 = getPredict(CVT_grunt)\n",
    "print(\"[CVT grunt]\")\n",
    "summary_predict(y1)\n",
    "plotBox(y1, save_nm=f\"{FIGRUE_FOLDER_PATH}/18CVT_grunt\")"
   ]
  },
  {
   "attachments": {},
   "cell_type": "markdown",
   "metadata": {},
   "source": [
    "YT"
   ]
  },
  {
   "cell_type": "code",
   "execution_count": null,
   "metadata": {},
   "outputs": [],
   "source": [
    "# YT breathy\n",
    "y1 = getPredict(YT_breathy)\n",
    "print(\"[YT_breathy]\")\n",
    "summary_predict(y1)\n",
    "plotBox(y1, save_nm=f\"{FIGRUE_FOLDER_PATH}/19YT_breathy\")"
   ]
  },
  {
   "cell_type": "code",
   "execution_count": null,
   "metadata": {},
   "outputs": [],
   "source": [
    "# YT breathy (compare breathy and non breathy)\n",
    "y1 = getPredict(YT_breathy_compare)\n",
    "y2 = getPredict(YT_non_breathy_compare)\n",
    "print(\"[breathy]\")\n",
    "summary_predict(y1)\n",
    "plotBox(y1, save_nm=f\"{FIGRUE_FOLDER_PATH}/20YT_breathy_compare\")\n",
    "print(\"[non breathy]\")\n",
    "summary_predict(y2)\n",
    "plotBox(y2, save_nm=f\"{FIGRUE_FOLDER_PATH}/21YT_non_breathy_compare\")\n",
    "compare_external_test(y1,y2, \"breathy\", \"non breathy\")"
   ]
  },
  {
   "cell_type": "code",
   "execution_count": null,
   "metadata": {},
   "outputs": [],
   "source": [
    "# YT bright\n",
    "y1 = getPredict(YT_bright)\n",
    "y2 = getPredict(YT_dark)\n",
    "print(\"[516 bright]\")\n",
    "summary_predict(y1)\n",
    "plotBox(y1, save_nm=f\"{FIGRUE_FOLDER_PATH}/22YT_bright\")\n",
    "print(\"[517 dark]\")\n",
    "summary_predict(y2)\n",
    "plotBox(y2, save_nm=f\"{FIGRUE_FOLDER_PATH}/23YT_dark\")\n",
    "compare_external_test(y1,y2, \"516\", \"517\")"
   ]
  },
  {
   "cell_type": "code",
   "execution_count": null,
   "metadata": {},
   "outputs": [],
   "source": [
    "# YT bright\n",
    "y1 = getPredict(YT_good_bright)\n",
    "y2 = getPredict(YT_bad_bright)\n",
    "print(\"[518 bright]\")\n",
    "summary_predict(y1)\n",
    "plotBox(y1, save_nm=f\"{FIGRUE_FOLDER_PATH}/24YT_good_bright\")\n",
    "print(\"[519 bad bright]\")\n",
    "summary_predict(y2)\n",
    "plotBox(y2, save_nm=f\"{FIGRUE_FOLDER_PATH}/25YT_bad_bright\")\n",
    "compare_external_test(y1,y2, \"518\", \"519\")"
   ]
  },
  {
   "cell_type": "code",
   "execution_count": null,
   "metadata": {},
   "outputs": [],
   "source": [
    "# YT mouth opening 1\n",
    "y1 = getPredict(YT_mouth_open_1_horizon)\n",
    "y2 = getPredict(YT_mouth_open_1_horizonL)\n",
    "y3 = getPredict(YT_mouth_open_1_vertical)\n",
    "\n",
    "print(\"[horizon]\")\n",
    "summary_predict(y1)\n",
    "plotBox(y1, save_nm=f\"{FIGRUE_FOLDER_PATH}/26YT_mouth_open_1_horizon\")\n",
    "\n",
    "print(\"[large horizon]\")\n",
    "summary_predict(y2)\n",
    "plotBox(y2, save_nm=f\"{FIGRUE_FOLDER_PATH}/27YT_mouth_open_1_horizonL\")\n",
    "\n",
    "print(\"[vertical]\")\n",
    "summary_predict(y2)\n",
    "plotBox(y2, save_nm=f\"{FIGRUE_FOLDER_PATH}/28YT_mouth_open_1_vertical\")"
   ]
  },
  {
   "cell_type": "code",
   "execution_count": null,
   "metadata": {},
   "outputs": [],
   "source": [
    "# YT mouth opening 2\n",
    "y1 = getPredict(YT_mouth_open_2_close)\n",
    "y2 = getPredict(YT_mouth_open_2_open)\n",
    "\n",
    "print(\"[close]\")\n",
    "summary_predict(y1)\n",
    "plotBox(y1, save_nm=f\"{FIGRUE_FOLDER_PATH}/29YT_mouth_open_2_close\")\n",
    "\n",
    "print(\"[open]\")\n",
    "summary_predict(y2)\n",
    "plotBox(y2, save_nm=f\"{FIGRUE_FOLDER_PATH}/30YT_mouth_open_2_open\")"
   ]
  },
  {
   "cell_type": "code",
   "execution_count": null,
   "metadata": {},
   "outputs": [],
   "source": [
    "# YT mouth opening 3\n",
    "y1 = getPredict(YT_mouth_open_3_tooSmall)\n",
    "y2 = getPredict(YT_mouth_open_3_small)\n",
    "y3 = getPredict(YT_mouth_open_3_normal)\n",
    "y4 = getPredict(YT_mouth_open_3_wide)\n",
    "y5 = getPredict(YT_mouth_open_3_big)\n",
    "y6 = getPredict(YT_mouth_open_3_tooLong)\n",
    "\n",
    "print(\"[too small]\")\n",
    "summary_predict(y1)\n",
    "plotBox(y1, save_nm=f\"{FIGRUE_FOLDER_PATH}/31YT_mouth_open_3_tooSmall\")\n",
    "\n",
    "print(\"[small]\")\n",
    "summary_predict(y2)\n",
    "plotBox(y2, save_nm=f\"{FIGRUE_FOLDER_PATH}/32YT_mouth_open_3_small\")\n",
    "\n",
    "print(\"[normal]\")\n",
    "summary_predict(y3)\n",
    "plotBox(y3, save_nm=f\"{FIGRUE_FOLDER_PATH}/33YT_mouth_open_3_normal\")\n",
    "\n",
    "print(\"[wide]\")\n",
    "summary_predict(y4)\n",
    "plotBox(y4, save_nm=f\"{FIGRUE_FOLDER_PATH}/34YT_mouth_open_3_wide\")\n",
    "\n",
    "print(\"[big]\")\n",
    "summary_predict(y5)\n",
    "plotBox(y5, save_nm=f\"{FIGRUE_FOLDER_PATH}/35YT_mouth_open_3_big\")\n",
    "\n",
    "print(\"[too long]\")\n",
    "summary_predict(y6)\n",
    "plotBox(y6, save_nm=f\"{FIGRUE_FOLDER_PATH}/36YT_mouth_open_3_tooLong\")"
   ]
  },
  {
   "attachments": {},
   "cell_type": "markdown",
   "metadata": {},
   "source": [
    "Gender"
   ]
  },
  {
   "cell_type": "code",
   "execution_count": null,
   "metadata": {},
   "outputs": [],
   "source": [
    "y1 = getPredict(child)\n",
    "y2 = getPredict(male)\n",
    "y3 = getPredict(female)\n",
    "print(\"[child]\")\n",
    "summary_predict(y1)\n",
    "plotBox(y1, save_nm=f\"{FIGRUE_FOLDER_PATH}/37child\")\n",
    "print(\"[male]\")\n",
    "summary_predict(y2)\n",
    "plotBox(y2, save_nm=f\"{FIGRUE_FOLDER_PATH}/38male\")\n",
    "print(\"[female]\")\n",
    "summary_predict(y3)\n",
    "plotBox(y3, save_nm=f\"{FIGRUE_FOLDER_PATH}/39female\")\n",
    "compare_external_test(y1,y2, \"child\", \"male\")\n",
    "compare_external_test(y1,y3, \"child\", \"female\")"
   ]
  }
 ],
 "metadata": {
  "kernelspec": {
   "display_name": "Python 3",
   "language": "python",
   "name": "python3"
  },
  "language_info": {
   "codemirror_mode": {
    "name": "ipython",
    "version": 3
   },
   "file_extension": ".py",
   "mimetype": "text/x-python",
   "name": "python",
   "nbconvert_exporter": "python",
   "pygments_lexer": "ipython3",
   "version": "3.9.4"
  },
  "orig_nbformat": 4
 },
 "nbformat": 4,
 "nbformat_minor": 2
}
