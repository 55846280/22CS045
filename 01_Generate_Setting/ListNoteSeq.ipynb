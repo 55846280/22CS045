{
 "cells": [
  {
   "cell_type": "code",
   "execution_count": 1,
   "metadata": {},
   "outputs": [],
   "source": [
    "import os\n",
    "import sys\n",
    "parent_dir = os.path.abspath(os.path.join(os.getcwd(), \"../00_Constant\"))\n",
    "if sys.path.count(parent_dir) == 0:\n",
    "    sys.path.append(parent_dir)\n",
    "import fyp_constants as constants"
   ]
  },
  {
   "cell_type": "code",
   "execution_count": 2,
   "metadata": {},
   "outputs": [],
   "source": [
    "SAMPLE_LEN = constants.SAMPLE_LEN\n",
    "NOTELEN_LS = constants.NOTELEN_LS"
   ]
  },
  {
   "attachments": {},
   "cell_type": "markdown",
   "metadata": {},
   "source": [
    "Generate all possible note seq and store into a csv file"
   ]
  },
  {
   "cell_type": "code",
   "execution_count": 8,
   "metadata": {},
   "outputs": [],
   "source": [
    "# 120 tempo, 4/4 beat\n",
    "# 4 second for every sample = 2/1 note\n",
    "# note 1-4\n",
    "# 1: 1/4 = 0.5s\n",
    "# 2: 1/2 = 1s\n",
    "# 3: 1/1 = 2s\n",
    "# 4: 2/1 = 4s\n",
    "def genNoteSequences(seq_len):\n",
    "    if(seq_len == 0):\n",
    "        return []\n",
    "    \n",
    "    seq_ls = []\n",
    "    for note_len in NOTELEN_LS:\n",
    "        if(note_len == seq_len):\n",
    "            seq_ls.append([note_len])\n",
    "        elif(note_len < seq_len):\n",
    "            sub_seq_ls = genNoteSequences(seq_len-note_len)\n",
    "            for sub_seq in sub_seq_ls:\n",
    "                seq_ls.append([note_len]+sub_seq)\n",
    "        \n",
    "    return seq_ls"
   ]
  },
  {
   "cell_type": "code",
   "execution_count": 9,
   "metadata": {},
   "outputs": [],
   "source": [
    "seq_ls = genNoteSequences(SAMPLE_LEN)\n",
    "with open(\"noteSeq.csv\", \"w\") as seqFile:\n",
    "    for seq in seq_ls:\n",
    "        for idx in range(len(seq)):\n",
    "            if(idx != 0):\n",
    "                seqFile.write(\", \")\n",
    "            seqFile.write(str(seq[idx]))\n",
    "        seqFile.write(\"\\n\")"
   ]
  }
 ],
 "metadata": {
  "kernelspec": {
   "display_name": "Python 3",
   "language": "python",
   "name": "python3"
  },
  "language_info": {
   "codemirror_mode": {
    "name": "ipython",
    "version": 3
   },
   "file_extension": ".py",
   "mimetype": "text/x-python",
   "name": "python",
   "nbconvert_exporter": "python",
   "pygments_lexer": "ipython3",
   "version": "3.9.4"
  },
  "orig_nbformat": 4,
  "vscode": {
   "interpreter": {
    "hash": "a874d0c95cb46dcba332043de1cfb5eefda357a7030a18625ea6feac31d44c32"
   }
  }
 },
 "nbformat": 4,
 "nbformat_minor": 2
}
